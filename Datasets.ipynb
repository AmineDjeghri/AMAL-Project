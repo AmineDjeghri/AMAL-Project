{
 "cells": [
  {
   "cell_type": "code",
   "execution_count": 8,
   "metadata": {},
   "outputs": [],
   "source": [
    "# city scapes\n",
    "#\n",
    "import os\n",
    "import imageio\n",
    "from pathlib import Path"
   ]
  },
  {
   "cell_type": "code",
   "execution_count": 7,
   "metadata": {},
   "outputs": [],
   "source": [
    "from PIL import Image\n"
   ]
  },
  {
   "cell_type": "code",
   "execution_count": null,
   "metadata": {},
   "outputs": [],
   "source": [
    "## remove non essential files"
   ]
  },
  {
   "cell_type": "code",
   "execution_count": 2,
   "metadata": {},
   "outputs": [],
   "source": [
    "directory= \"../cityscapes_pretraiement/gtFine/train/\"\n",
    "for f in os.listdir(directory):\n",
    "    filename = directory+\"\"+f\n",
    "    if not f.endswith(\"_labelTrainIds.png\"):\n",
    "        os.remove(filename)"
   ]
  },
  {
   "cell_type": "code",
   "execution_count": 3,
   "metadata": {},
   "outputs": [],
   "source": [
    "directory= \"../cityscapes_pretraiement/gtFine/val/\"\n",
    "for f in os.listdir(directory):\n",
    "    filename = directory+\"\"+f\n",
    "    if not f.endswith(\"_labelTrainIds.png\"):\n",
    "        os.remove(filename)"
   ]
  },
  {
   "cell_type": "code",
   "execution_count": null,
   "metadata": {},
   "outputs": [],
   "source": [
    "## resize"
   ]
  },
  {
   "cell_type": "code",
   "execution_count": 11,
   "metadata": {},
   "outputs": [],
   "source": [
    "directory= \"../cityscapes_pretraiement/gtFine/train/\"\n",
    "for f in os.listdir(directory):\n",
    "    filename = directory+\"\"+f\n",
    "    img = Image.open(filename)\n",
    "    img = img.resize((128,128), Image.ANTIALIAS)\n",
    "    img.save(directory+\"\"+f)"
   ]
  },
  {
   "cell_type": "code",
   "execution_count": 12,
   "metadata": {},
   "outputs": [],
   "source": [
    "directory= \"../cityscapes_pretraiement/gtFine/val/\"\n",
    "for f in os.listdir(directory):\n",
    "    filename = directory+\"\"+f\n",
    "    img = Image.open(filename)\n",
    "    img = img.resize((128,128), Image.ANTIALIAS)\n",
    "    img.save(directory+\"\"+f)"
   ]
  },
  {
   "cell_type": "code",
   "execution_count": 15,
   "metadata": {},
   "outputs": [],
   "source": [
    "directory= \"../cityscapes_pretraiement/leftImg8bit/train/\"\n",
    "for f in os.listdir(directory):\n",
    "    filename = directory+\"\"+f\n",
    "    img = Image.open(filename)\n",
    "    img = img.resize((128,128), Image.ANTIALIAS)\n",
    "    img.save(directory+\"\"+f)"
   ]
  },
  {
   "cell_type": "code",
   "execution_count": 16,
   "metadata": {},
   "outputs": [],
   "source": [
    "directory= \"../cityscapes_pretraiement/leftImg8bit/val/\"\n",
    "for f in os.listdir(directory):\n",
    "    filename = directory+\"\"+f\n",
    "    img = Image.open(filename)\n",
    "    img = img.resize((128,128), Image.ANTIALIAS)\n",
    "    img.save(directory+\"\"+f)"
   ]
  },
  {
   "cell_type": "code",
   "execution_count": null,
   "metadata": {},
   "outputs": [],
   "source": []
  }
 ],
 "metadata": {
  "kernelspec": {
   "display_name": "Python 3",
   "language": "python",
   "name": "python3"
  },
  "language_info": {
   "codemirror_mode": {
    "name": "ipython",
    "version": 3
   },
   "file_extension": ".py",
   "mimetype": "text/x-python",
   "name": "python",
   "nbconvert_exporter": "python",
   "pygments_lexer": "ipython3",
   "version": "3.8.5-final"
  }
 },
 "nbformat": 4,
 "nbformat_minor": 4
}